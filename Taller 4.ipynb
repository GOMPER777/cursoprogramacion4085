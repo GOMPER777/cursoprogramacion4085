{
  "nbformat": 4,
  "nbformat_minor": 0,
  "metadata": {
    "colab": {
      "provenance": []
    },
    "kernelspec": {
      "name": "python3",
      "display_name": "Python 3"
    },
    "language_info": {
      "name": "python"
    }
  },
  "cells": [
    {
      "cell_type": "code",
      "execution_count": null,
      "metadata": {
        "id": "bGiE6okUbFqC"
      },
      "outputs": [],
      "source": []
    },
    {
      "cell_type": "markdown",
      "source": [
        "**TALLER 4**\n",
        "1. Se necesita un sistema que despliega una tabla de multiplicar de un número dado por el usuario. ciclo for"
      ],
      "metadata": {
        "id": "1MZMdJ39bMkQ"
      }
    },
    {
      "cell_type": "code",
      "source": [
        "numero = int(input(\"Digite el número deseado: \"))\n",
        "\n",
        "for a in range(11):\n",
        "  print(a, \"x\", numero, \"=\", numero * a)\n",
        "else:\n",
        "  print(\"fin del ciclo for\")"
      ],
      "metadata": {
        "colab": {
          "base_uri": "https://localhost:8080/"
        },
        "id": "bsNLOc3HbTPO",
        "outputId": "277f63b7-2f9c-4e0a-9e5d-4771b814311d"
      },
      "execution_count": 1,
      "outputs": [
        {
          "output_type": "stream",
          "name": "stdout",
          "text": [
            "Digite el número deseado: 7\n",
            "0 x 7 = 0\n",
            "1 x 7 = 7\n",
            "2 x 7 = 14\n",
            "3 x 7 = 21\n",
            "4 x 7 = 28\n",
            "5 x 7 = 35\n",
            "6 x 7 = 42\n",
            "7 x 7 = 49\n",
            "8 x 7 = 56\n",
            "9 x 7 = 63\n",
            "10 x 7 = 70\n",
            "fin del ciclo for\n"
          ]
        }
      ]
    },
    {
      "cell_type": "markdown",
      "source": [
        "2. Se necesita un sistema que pida un sueldo de un trabajador, si el sueldo es mayor a 655000, no tedrá ninguna bonificación, pero si es menor tiene bonificación del 4%. Al final se desea saber el total del sueldo con o sin bonificación. Preguntar si desea ejecutar de nuevo el programa con el ciclo while."
      ],
      "metadata": {
        "id": "gFPIBH1KboLb"
      }
    },
    {
      "cell_type": "code",
      "source": [
        "pregunta = \"si\"\n",
        "while pregunta == \"si\":\n",
        "  sueldo = float(input(\"Digite el salario mensual: \"))\n",
        "\n",
        "  bonificacion = round(sueldo * 0.04, 2)\n",
        "  total = sueldo + bonificacion\n",
        "\n",
        "  if sueldo <= 655000:\n",
        "    estado = \"APROBADA\"\n",
        "    print(\"{}, la bonificacion es= ${:,.0f} y su sueldo sera= {:,.0f}\".format(estado, bonificacion, total))\n",
        "  else:\n",
        "    estado = \"REPROBADA\"\n",
        "    print(\"{} la bonificacion y su sueldo es= ${:,.0f}\".format(estado, sueldo))\n",
        "  pregunta = input(\"¿Desea verificar otra salario para el proceso? (si/no) \").lower()"
      ],
      "metadata": {
        "colab": {
          "base_uri": "https://localhost:8080/"
        },
        "id": "crtQ_cA4bqcD",
        "outputId": "acfe0752-ad4c-4989-f23c-e6444dee1afa"
      },
      "execution_count": 2,
      "outputs": [
        {
          "name": "stdout",
          "output_type": "stream",
          "text": [
            "Digite el salario mensual: 6550000\n",
            "REPROBADA la bonificacion y su sueldo es= $6,550,000\n",
            "¿Desea verificar otra salario para el proceso? (si/no) no\n"
          ]
        }
      ]
    },
    {
      "cell_type": "markdown",
      "source": [
        "3. Un maestro necesita un sistema para capturar las calificaciones de 5 parciales de sus alumnos, después recapturarlas necesita que se despliegue el promedio, cuando ya no quiera capturar más alumnos, necesita que se despliegue el promedio general de todos los alumnos capturados. Preguntar si desea ejecutar de nuevo el programa con el ciclo while."
      ],
      "metadata": {
        "id": "puytc_trb0Jp"
      }
    },
    {
      "cell_type": "code",
      "source": [
        "pregunta =\"si\"\n",
        "\n",
        "while pregunta == \"si\":\n",
        "  alumnos = int(input(\"Digite la cantidad de alumnos: \"))\n",
        "  cal_1 = float(input(\"Digite la calificacion_1: \"))\n",
        "  cal_2 = float(input(\"Digite la calificacion_2: \"))\n",
        "  cal_3 = float(input(\"Digite la calificacion_3: \"))\n",
        "  cal_4 = float(input(\"Digite la calificacion_4: \"))\n",
        "  cal_5 = float(input(\"Digite la calificacion_5: \"))\n",
        "\n",
        "\n",
        "\n",
        "  promedio = round((cal_1 + cal_2 + cal_3 + cal_4 + cal_5) / 5, 2)\n",
        "  total = round(promedio * alumnos/alumnos, 2)\n",
        "  \n",
        "  if alumnos < 2:\n",
        "    print(\"El promedio de calificaciones es: {}\".format(promedio))\n",
        "  else:\n",
        "    print(\"El promedio general es= {}\".format(total))\n",
        "  pregunta = input(\"¿Desea volver ingresar mas alumnos? (si/no)\").lower()"
      ],
      "metadata": {
        "colab": {
          "base_uri": "https://localhost:8080/"
        },
        "id": "2Oh6-MHKb1S6",
        "outputId": "eb7d1430-e23e-4e37-f237-26d70ff3936b"
      },
      "execution_count": 3,
      "outputs": [
        {
          "name": "stdout",
          "output_type": "stream",
          "text": [
            "Digite la cantidad de alumnos: 10\n",
            "Digite la calificacion_1: 3.5\n",
            "Digite la calificacion_2: 2.0\n",
            "Digite la calificacion_3: 3.0\n",
            "Digite la calificacion_4: 3.5\n",
            "Digite la calificacion_5: 3.4\n",
            "El promedio general es= 3.08\n",
            "¿Desea volver ingresar mas alumnos? (si/no)no\n"
          ]
        }
      ]
    },
    {
      "cell_type": "markdown",
      "source": [
        "4. Crear un bucle que cuente todos los números pares hasta el 100 ciclo for"
      ],
      "metadata": {
        "id": "KbWY00ARcCI4"
      }
    },
    {
      "cell_type": "code",
      "source": [
        "for i in range(0,100,2):\n",
        "  acu = i + 2\n",
        "  print(acu)"
      ],
      "metadata": {
        "id": "qKvmGmIycEC9",
        "outputId": "f5f3dc02-1013-4616-bda2-8c4d9b619a96",
        "colab": {
          "base_uri": "https://localhost:8080/"
        }
      },
      "execution_count": 4,
      "outputs": [
        {
          "output_type": "stream",
          "name": "stdout",
          "text": [
            "2\n",
            "4\n",
            "6\n",
            "8\n",
            "10\n",
            "12\n",
            "14\n",
            "16\n",
            "18\n",
            "20\n",
            "22\n",
            "24\n",
            "26\n",
            "28\n",
            "30\n",
            "32\n",
            "34\n",
            "36\n",
            "38\n",
            "40\n",
            "42\n",
            "44\n",
            "46\n",
            "48\n",
            "50\n",
            "52\n",
            "54\n",
            "56\n",
            "58\n",
            "60\n",
            "62\n",
            "64\n",
            "66\n",
            "68\n",
            "70\n",
            "72\n",
            "74\n",
            "76\n",
            "78\n",
            "80\n",
            "82\n",
            "84\n",
            "86\n",
            "88\n",
            "90\n",
            "92\n",
            "94\n",
            "96\n",
            "98\n",
            "100\n"
          ]
        }
      ]
    }
  ]
}