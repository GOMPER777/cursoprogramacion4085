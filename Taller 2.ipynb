{
  "nbformat": 4,
  "nbformat_minor": 0,
  "metadata": {
    "colab": {
      "provenance": []
    },
    "kernelspec": {
      "name": "python3",
      "display_name": "Python 3"
    },
    "language_info": {
      "name": "python"
    }
  },
  "cells": [
    {
      "cell_type": "markdown",
      "source": [
        "**TALLER 2**\n",
        "1. Un vendedor recibe un sueldo base más un 10% extra por\n",
        "comisión de sus ventas, el vendedor desea saber cuánto dinero obtendrá por concepto de comisiones por las tres ventas que realiza en el mes y el total que recibirá en el mes tomando en cuenta su sueldo base y comisiones."
      ],
      "metadata": {
        "id": "jY4jg3yPY0Rw"
      }
    },
    {
      "cell_type": "code",
      "source": [
        "sueldo_base = float(input(\"Digite el sueldo base mensual: \"))\n",
        "venta_1 = float(input(\"¿Cuánto fue el valor de la venta?: \"))\n",
        "venta_2 = float(input(\"¿Cuánto fue el valor de la venta?: \"))\n",
        "venta_3 = float(input(\"¿Cuánto fue el valor de la venta?: \"))\n",
        "\n",
        "comision = round((venta_1 + venta_2 + venta_3) * 0.10, 2)\n",
        "\n",
        "sueldo_total = sueldo_base + comision\n",
        "\n",
        "print(\"\\nEl sueldo base es = ${:,.2f}\".format(sueldo_base))\n",
        "print(\"\\nComision por ventas del mes = ${:,.2f}\".format(comision))\n",
        "print(\"\\nEl sueldo total del mes es = ${:,.2f}\".format(sueldo_total))"
      ],
      "metadata": {
        "colab": {
          "base_uri": "https://localhost:8080/"
        },
        "id": "gul2v1bvYZxD",
        "outputId": "e1e885ea-8920-43d3-dea5-376d73719eb2"
      },
      "execution_count": 2,
      "outputs": [
        {
          "output_type": "stream",
          "name": "stdout",
          "text": [
            "Digite el sueldo base mensual: 3000000\n",
            "¿Cuánto fue el valor de la venta?: 4200000\n",
            "¿Cuánto fue el valor de la venta?: 4350000\n",
            "¿Cuánto fue el valor de la venta?: 3800000\n",
            "\n",
            "El sueldo base es = $3,000,000.00\n",
            "\n",
            "Comision por ventas del mes = $1,235,000.00\n",
            "\n",
            "El sueldo total del mes es = $4,235,000.00\n"
          ]
        }
      ]
    },
    {
      "cell_type": "markdown",
      "source": [
        "2. Una tienda ofrece un descuento del 15% sobre el total de la compra y un cliente desea saber cuánto deberá pagar finalmente por su compra."
      ],
      "metadata": {
        "id": "Ou5iFdgrY7Gt"
      }
    },
    {
      "cell_type": "code",
      "source": [
        "compra = float(input(\"¿Cuánto fue el valor total de su compra?: \"))\n",
        "\n",
        "descuento = round((compra) * 0.15, 2)\n",
        "\n",
        "compra_total = compra - descuento\n",
        "print(\"\\nEl descuento aplicado por su compra es = ${:,.2f}\".format(descuento))\n",
        "print(\"\\nLa compra total del usuario es = ${:,.2f}\".format(compra_total))"
      ],
      "metadata": {
        "colab": {
          "base_uri": "https://localhost:8080/"
        },
        "id": "LRadjxs6Y_1J",
        "outputId": "2d0ea39f-fb81-42f1-b7a2-3bff4094063e"
      },
      "execution_count": 3,
      "outputs": [
        {
          "output_type": "stream",
          "name": "stdout",
          "text": [
            "¿Cuánto fue el valor total de su compra?: 200\n",
            "\n",
            "El descuento aplicado por su compra es = $30.00\n",
            "\n",
            "La compra total del usuario es = $170.00\n"
          ]
        }
      ]
    },
    {
      "cell_type": "markdown",
      "source": [
        "3. Un maestro desea saber qué porcentaje de hombres y que porcentaje de mujeres hay en un grupo de estudiantes.\n",
        "\n",
        " "
      ],
      "metadata": {
        "id": "KpI6vcIWZLrN"
      }
    },
    {
      "cell_type": "code",
      "source": [
        "hombres = float(input(\"¿Cuántos hombres hay en la clase?: \"))\n",
        "mujeres = float(input(\"¿Cuántas mujeres hay en la clase?: \"))\n",
        "\n",
        "total_alumnos = hombres + mujeres\n",
        "P_hombres = round((hombres/(total_alumnos)) * 100,2 )\n",
        "P_mujeres = round((mujeres/(total_alumnos)) * 100,2 )\n",
        "\n",
        "print (f\"\\nEl porcentaje de hombres es = {P_hombres}\")\n",
        "print (f\"\\nEl porcentaje de mujeres es = {P_mujeres}\")"
      ],
      "metadata": {
        "colab": {
          "base_uri": "https://localhost:8080/"
        },
        "id": "qUfpARTcZO5Z",
        "outputId": "b8add7f3-dfc5-44d2-c535-5157d773c1af"
      },
      "execution_count": 4,
      "outputs": [
        {
          "output_type": "stream",
          "name": "stdout",
          "text": [
            "¿Cuántos hombres hay en la clase?: 18\n",
            "¿Cuántas mujeres hay en la clase?: 25\n",
            "\n",
            "El porcentaje de hombres es = 41.86\n",
            "\n",
            "El porcentaje de mujeres es = 58.14\n"
          ]
        }
      ]
    }
  ]
}