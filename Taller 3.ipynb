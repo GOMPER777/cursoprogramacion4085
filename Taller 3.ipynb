{
  "nbformat": 4,
  "nbformat_minor": 0,
  "metadata": {
    "colab": {
      "provenance": []
    },
    "kernelspec": {
      "name": "python3",
      "display_name": "Python 3"
    },
    "language_info": {
      "name": "python"
    }
  },
  "cells": [
    {
      "cell_type": "markdown",
      "source": [
        "**TALLER 3**\n",
        "1. Si el empleado es mayor de 55 años disfrutará de un bono de prepensión correspondiente al 5% de su sueldo básico."
      ],
      "metadata": {
        "id": "1Uy1VZ6dZ2Uj"
      }
    },
    {
      "cell_type": "code",
      "source": [
        "edad_empleado = int(input(\"Digite la edad del empleado: \"))\n",
        "sueldo_basico = float(input(\"Digite el sueldo basico del mes: \"))\n",
        "bono = round((sueldo_basico) * 0.05, 2)\n",
        "sueldo_total = sueldo_basico + bono\n",
        "\n",
        "if edad_empleado >= 55:\n",
        "  resultado = \"Cumple para bonificacion\"\n",
        "  print(\"La edad del empleado es: {}, el bono sera de:,.Ofysueldostotales:{:,.0f}\".format(edad_empleado, bono, resultado, sueldo_total))\n",
        "else:\n",
        "  resultado = \"No cumple para bonificacion\"\n",
        "  print(\"la edad del empleado es: {}, {}\".format(edad_empleado, resultado))\n"
      ],
      "metadata": {
        "colab": {
          "base_uri": "https://localhost:8080/"
        },
        "id": "3GrAZtY1Z0ec",
        "outputId": "431e0f9a-c6b8-4212-b8c3-3832ab162425"
      },
      "execution_count": 1,
      "outputs": [
        {
          "output_type": "stream",
          "name": "stdout",
          "text": [
            "Digite la edad del empleado: 30\n",
            "Digite el sueldo basico del mes: 1000000\n",
            "la edad del empleado es: 30, No cumple para bonificacion\n"
          ]
        }
      ]
    },
    {
      "cell_type": "markdown",
      "source": [
        "2. Si el empleado es casado y tiene hijos se le otorgará un paseo cada diciembre"
      ],
      "metadata": {
        "id": "3zkgjWLQaVIV"
      }
    },
    {
      "cell_type": "code",
      "source": [
        "EC = input(\"Estado civil del empleado: \")\n",
        "#Tiene_hijos = input(\"Tiene usted hijos: \")\n",
        "Estado_civil = \"casado\"\n",
        "#Hijos = \"yes\"\n",
        "\n",
        "if EC == Estado_civil:\n",
        "  print(\"Aplica para viaje\")\n",
        "else:\n",
        "  print(\"No aplica para viaje\")"
      ],
      "metadata": {
        "colab": {
          "base_uri": "https://localhost:8080/"
        },
        "id": "ObCc_VM9aY5V",
        "outputId": "993bdf22-5492-4ea0-bb72-e5f02ff011c2"
      },
      "execution_count": 2,
      "outputs": [
        {
          "output_type": "stream",
          "name": "stdout",
          "text": [
            "Estado civil del empleado: solo\n",
            "No aplica para viaje\n"
          ]
        }
      ]
    },
    {
      "cell_type": "markdown",
      "source": [
        "3. Si el sueldo básico está entre 1000000 y 1500000 tendrá una comisión del 2% sobre el valor del sueldo; Si el sueldo básico está entre 1500001 y 2000000 tendrá una comisión del 5% sobre el valor del sueldo; para todos los demás casos no habrá comisión."
      ],
      "metadata": {
        "id": "vmGBYCDIai3x"
      }
    },
    {
      "cell_type": "code",
      "source": [
        "sueldo = float(input(\"Digite el número: \"))\n",
        "comision_1 = round(sueldo * 0.02, 2)\n",
        "comision_2 = round(sueldo * 0.05, 2)\n",
        "sueldo_total1 = sueldo + comision_1\n",
        "sueldo_total2 = sueldo + comision_2\n",
        "\n",
        "if sueldo > 2000000:\n",
        "  print(\"No aplica comision\") \n",
        "elif sueldo >= 1500001 :\n",
        "  print(\"Aplica comision del 5% y su sueldo sera de: ${:,.0f}\".format(sueldo_total2)) \n",
        "elif sueldo >= 1000000:\n",
        "  print(\"Aplica comision del 2% y su sueldo sera de: ${:,.0f}\".format(sueldo_total1)) "
      ],
      "metadata": {
        "colab": {
          "base_uri": "https://localhost:8080/"
        },
        "id": "wq7RxHtIakRd",
        "outputId": "020398b4-4fb2-405f-b562-39447939b5c1"
      },
      "execution_count": 5,
      "outputs": [
        {
          "output_type": "stream",
          "name": "stdout",
          "text": [
            "Digite el número: 1850000\n",
            "Aplica comision del 5% y su sueldo sera de: $1,942,500\n"
          ]
        }
      ]
    },
    {
      "cell_type": "markdown",
      "source": [
        "4. Si el empleado trabajó más de 20 días al mes y su sueldo es menor a 1000000 tendrá derecho a un bono de alimentación."
      ],
      "metadata": {
        "id": "ixe08Uhiayf1"
      }
    },
    {
      "cell_type": "code",
      "source": [
        "sueldo = float(input(\"Digite el salario: \"))\n",
        "dias = int(input(\"¿Cunatos dias del mes a trabajado?: \"))\n",
        "\n",
        "if sueldo <= 1000000 and dias > 20:\n",
        "#elif dias > 20:\n",
        "  resultado = \"Se aprueba bono alimentario\"\n",
        "  print(\"El salario es: ${:,.0f} y los dias trabajados son {}\".format(sueldo, dias)) \n",
        "  print(\"Entonces: \",format(resultado))\n",
        "else:\n",
        "  print(\"No aplica para bono alimentario\")"
      ],
      "metadata": {
        "colab": {
          "base_uri": "https://localhost:8080/"
        },
        "id": "Zt_LOs2Ia2tu",
        "outputId": "b72e5520-7e89-4063-d889-114e2cc7af18"
      },
      "execution_count": 6,
      "outputs": [
        {
          "output_type": "stream",
          "name": "stdout",
          "text": [
            "Digite el salario: 1000000\n",
            "¿Cunatos dias del mes a trabajado?: 30\n",
            "El salario es: $1,000,000 y los dias trabajados son 30\n",
            "Entonces:  Se aprueba bono alimentario\n"
          ]
        }
      ]
    }
  ]
}