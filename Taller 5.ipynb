{
  "nbformat": 4,
  "nbformat_minor": 0,
  "metadata": {
    "colab": {
      "provenance": []
    },
    "kernelspec": {
      "name": "python3",
      "display_name": "Python 3"
    },
    "language_info": {
      "name": "python"
    }
  },
  "cells": [
    {
      "cell_type": "markdown",
      "source": [
        "**TALLER 5**\n",
        "1. Es integrar Ciclos y Funciones en el código del Taller 1 y Taller 2"
      ],
      "metadata": {
        "id": "f1Ebc9VHcRg9"
      }
    },
    {
      "cell_type": "code",
      "execution_count": 2,
      "metadata": {
        "colab": {
          "base_uri": "https://localhost:8080/"
        },
        "id": "iNE7K0-BcPds",
        "outputId": "f6ef83d9-480d-4738-8891-8e0d2f3303e5"
      },
      "outputs": [
        {
          "name": "stdout",
          "output_type": "stream",
          "text": [
            "Digite los siguientes datos para validar la autenticidad siguiendo este orden con comas nombre completo, edad, telefono, ocupacion, tiene hijos: 11\n",
            "Datos incorrectos\n",
            "¿Desea validar otros datos (si/no?) no\n"
          ]
        }
      ],
      "source": [
        "def validar(informacion):\n",
        "  if informacion == \"mario, 34, 3142916851, empleado, si\":\n",
        "    print(\"Los dos ingresados son correcctos, eres Mario\")\n",
        "  else:\n",
        "    print(\"Datos incorrectos\")\n",
        "\n",
        "resp = \"si\"\n",
        "while resp == \"si\":\n",
        "  datos = input(\"Digite los siguientes datos para validar la autenticidad siguiendo este orden con comas nombre completo, edad, telefono, ocupacion, tiene hijos: \")\n",
        "  validar(datos)\n",
        "  resp = input(\"¿Desea validar otros datos (si/no?) \"). lower()"
      ]
    },
    {
      "cell_type": "markdown",
      "source": [],
      "metadata": {
        "id": "ivQT5IYKcafH"
      }
    },
    {
      "cell_type": "code",
      "source": [
        "def validar(compra):\n",
        "  if compra > 1000000:\n",
        "    \n",
        "    descuento = round((compra) * 0.15, 2)\n",
        "    compra_total = compra - descuento\n",
        "    print(\"\\nDESCUENTO APLICADO por su compra= ${:,.2f}\".format(descuento))\n",
        "    print(\"\\nLa compra total del usuario es = ${:,.2f}\".format(compra_total))\n",
        " \n",
        "  else:\n",
        "    print(\"\\nLa compra es ${:,.0f}, NO APLICA DESCUENTO\".format(compra))\n",
        "\n",
        "resp = \"si\"\n",
        "while resp == \"si\":\n",
        "  dato = float(input(\"Digite el valor de la compra: \"))\n",
        "  validar(dato)\n",
        "  resp = input(\"¿Desea validar otro valor por concepto de compra (si/no)?: \")\n",
        "     "
      ],
      "metadata": {
        "colab": {
          "base_uri": "https://localhost:8080/"
        },
        "id": "Msa913WuceE7",
        "outputId": "3cdea44b-2ffb-4a92-df7c-f5e1c8be2bb2"
      },
      "execution_count": 1,
      "outputs": [
        {
          "name": "stdout",
          "output_type": "stream",
          "text": [
            "Digite el valor de la compra: 1320000\n",
            "\n",
            "DESCUENTO APLICADO por su compra= $198,000.00\n",
            "\n",
            "La compra total del usuario es = $1,122,000.00\n",
            "¿Desea validar otro valor por concepto de compra (si/no)?: no\n"
          ]
        }
      ]
    }
  ]
}